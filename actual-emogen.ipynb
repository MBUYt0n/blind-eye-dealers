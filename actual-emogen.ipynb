{
  "metadata": {
    "kernelspec": {
      "language": "python",
      "display_name": "Python 3",
      "name": "python3"
    },
    "language_info": {
      "name": "python",
      "version": "3.10.13",
      "mimetype": "text/x-python",
      "codemirror_mode": {
        "name": "ipython",
        "version": 3
      },
      "pygments_lexer": "ipython3",
      "nbconvert_exporter": "python",
      "file_extension": ".py"
    },
    "kaggle": {
      "accelerator": "none",
      "dataSources": [
        {
          "sourceId": 64350,
          "sourceType": "modelInstanceVersion",
          "modelInstanceId": 53657
        }
      ],
      "dockerImageVersionId": 30732,
      "isInternetEnabled": false,
      "language": "python",
      "sourceType": "notebook",
      "isGpuEnabled": false
    },
    "colab": {
      "name": "notebookaa7ab5d811",
      "provenance": []
    }
  },
  "nbformat_minor": 0,
  "nbformat": 4,
  "cells": [
    {
      "source": [
        "\n",
        "# IMPORTANT: RUN THIS CELL IN ORDER TO IMPORT YOUR KAGGLE DATA SOURCES\n",
        "# TO THE CORRECT LOCATION (/kaggle/input) IN YOUR NOTEBOOK,\n",
        "# THEN FEEL FREE TO DELETE THIS CELL.\n",
        "# NOTE: THIS NOTEBOOK ENVIRONMENT DIFFERS FROM KAGGLE'S PYTHON\n",
        "# ENVIRONMENT SO THERE MAY BE MISSING LIBRARIES USED BY YOUR\n",
        "# NOTEBOOK.\n",
        "\n",
        "import os\n",
        "import sys\n",
        "from tempfile import NamedTemporaryFile\n",
        "from urllib.request import urlopen\n",
        "from urllib.parse import unquote, urlparse\n",
        "from urllib.error import HTTPError\n",
        "from zipfile import ZipFile\n",
        "import tarfile\n",
        "import shutil\n",
        "\n",
        "CHUNK_SIZE = 40960\n",
        "DATA_SOURCE_MAPPING = 'emogen/tensorflow2/random/1:https%3A%2F%2Fstorage.googleapis.com%2Fkaggle-models-data%2F53657%2F64350%2Fbundle%2Farchive.tar.gz%3FX-Goog-Algorithm%3DGOOG4-RSA-SHA256%26X-Goog-Credential%3Dgcp-kaggle-com%2540kaggle-161607.iam.gserviceaccount.com%252F20240611%252Fauto%252Fstorage%252Fgoog4_request%26X-Goog-Date%3D20240611T151627Z%26X-Goog-Expires%3D259200%26X-Goog-SignedHeaders%3Dhost%26X-Goog-Signature%3D831a89872b1a4c973acd3802c3395f54b6d1b082df87f4d87ff73f6bc31465628422e8fa902c15173fcdbec2668b330631dc507ba52028025bd3b59d9ebdd425b078731807b6d58ac9f3a69b2cb8c6e0d4c8a4a54aa3e8bded09199bc01e1c1eb4609611d8e1b4ee464b94f13f1ecffa557f0ddcdd3dfd2ce7c6990eb737775f30d9734eaeb143fbda010d1a738eb0a422a7dc9bb0cc80750e5e31539d6865a11baf4c05c85e3a1154c11d279d94b05e5faa2989c633b512165ebf26ecd29831f572dbe9918430922a802cb4484b7b9fafb3f98c389b725aa54c14731f32409f91889d2263b8b112123b43b945efaf7fb39127faabfe612f517f8d974070e082'\n",
        "\n",
        "KAGGLE_INPUT_PATH='/kaggle/input'\n",
        "KAGGLE_WORKING_PATH='/kaggle/working'\n",
        "KAGGLE_SYMLINK='kaggle'\n",
        "\n",
        "!umount /kaggle/input/ 2> /dev/null\n",
        "shutil.rmtree('/kaggle/input', ignore_errors=True)\n",
        "os.makedirs(KAGGLE_INPUT_PATH, 0o777, exist_ok=True)\n",
        "os.makedirs(KAGGLE_WORKING_PATH, 0o777, exist_ok=True)\n",
        "\n",
        "try:\n",
        "  os.symlink(KAGGLE_INPUT_PATH, os.path.join(\"..\", 'input'), target_is_directory=True)\n",
        "except FileExistsError:\n",
        "  pass\n",
        "try:\n",
        "  os.symlink(KAGGLE_WORKING_PATH, os.path.join(\"..\", 'working'), target_is_directory=True)\n",
        "except FileExistsError:\n",
        "  pass\n",
        "\n",
        "for data_source_mapping in DATA_SOURCE_MAPPING.split(','):\n",
        "    directory, download_url_encoded = data_source_mapping.split(':')\n",
        "    download_url = unquote(download_url_encoded)\n",
        "    filename = urlparse(download_url).path\n",
        "    destination_path = os.path.join(KAGGLE_INPUT_PATH, directory)\n",
        "    try:\n",
        "        with urlopen(download_url) as fileres, NamedTemporaryFile() as tfile:\n",
        "            total_length = fileres.headers['content-length']\n",
        "            print(f'Downloading {directory}, {total_length} bytes compressed')\n",
        "            dl = 0\n",
        "            data = fileres.read(CHUNK_SIZE)\n",
        "            while len(data) > 0:\n",
        "                dl += len(data)\n",
        "                tfile.write(data)\n",
        "                done = int(50 * dl / int(total_length))\n",
        "                sys.stdout.write(f\"\\r[{'=' * done}{' ' * (50-done)}] {dl} bytes downloaded\")\n",
        "                sys.stdout.flush()\n",
        "                data = fileres.read(CHUNK_SIZE)\n",
        "            if filename.endswith('.zip'):\n",
        "              with ZipFile(tfile) as zfile:\n",
        "                zfile.extractall(destination_path)\n",
        "            else:\n",
        "              with tarfile.open(tfile.name) as tarfile:\n",
        "                tarfile.extractall(destination_path)\n",
        "            print(f'\\nDownloaded and uncompressed: {directory}')\n",
        "    except HTTPError as e:\n",
        "        print(f'Failed to load (likely expired) {download_url} to path {destination_path}')\n",
        "        continue\n",
        "    except OSError as e:\n",
        "        print(f'Failed to load {download_url} to path {destination_path}')\n",
        "        continue\n",
        "\n",
        "print('Data source import complete.')\n"
      ],
      "metadata": {
        "id": "G_yL-PnRlYmj"
      },
      "cell_type": "code",
      "outputs": [],
      "execution_count": null
    },
    {
      "cell_type": "code",
      "source": [
        "from pathlib import Path\n",
        "import cv2\n",
        "import dlib\n",
        "import sys\n",
        "import numpy as np\n",
        "import argparse\n",
        "from contextlib import contextmanager\n",
        "from wide_resnet import WideResNet\n",
        "from keras.utils.data_utils import get_file\n",
        "from keras.models import load_model\n",
        "from keras.preprocessing.image import img_to_array\n",
        "\n",
        "classifier = load_model('./model/emotion_little_vgg_2.h5')\n",
        "pretrained_model = \"https://github.com/yu4u/age-gender-estimation/releases/download/v0.5/weights.28-3.73.hdf5\""
      ],
      "metadata": {
        "_uuid": "8f2839f25d086af736a60e9eeb907d3b93b6e0e5",
        "_cell_guid": "b1076dfc-b9ad-4769-8c92-a6c4dae69d19",
        "execution": {
          "iopub.status.busy": "2024-06-11T14:52:29.042707Z",
          "iopub.execute_input": "2024-06-11T14:52:29.043118Z",
          "iopub.status.idle": "2024-06-11T14:52:29.635663Z",
          "shell.execute_reply.started": "2024-06-11T14:52:29.043082Z",
          "shell.execute_reply": "2024-06-11T14:52:29.633792Z"
        },
        "trusted": true,
        "id": "Gq0ISdZ-lYmk",
        "outputId": "8f5fa37b-77ce-473a-839c-3cda36466f34"
      },
      "execution_count": null,
      "outputs": [
        {
          "traceback": [
            "\u001b[0;31m---------------------------------------------------------------------------\u001b[0m",
            "\u001b[0;31mModuleNotFoundError\u001b[0m                       Traceback (most recent call last)",
            "Cell \u001b[0;32mIn[1], line 3\u001b[0m\n\u001b[1;32m      1\u001b[0m \u001b[38;5;28;01mfrom\u001b[39;00m \u001b[38;5;21;01mpathlib\u001b[39;00m \u001b[38;5;28;01mimport\u001b[39;00m Path\n\u001b[1;32m      2\u001b[0m \u001b[38;5;28;01mimport\u001b[39;00m \u001b[38;5;21;01mcv2\u001b[39;00m\n\u001b[0;32m----> 3\u001b[0m \u001b[38;5;28;01mimport\u001b[39;00m \u001b[38;5;21;01mdlib\u001b[39;00m\n\u001b[1;32m      4\u001b[0m \u001b[38;5;28;01mimport\u001b[39;00m \u001b[38;5;21;01msys\u001b[39;00m\n\u001b[1;32m      5\u001b[0m \u001b[38;5;28;01mimport\u001b[39;00m \u001b[38;5;21;01mnumpy\u001b[39;00m \u001b[38;5;28;01mas\u001b[39;00m \u001b[38;5;21;01mnp\u001b[39;00m\n",
            "\u001b[0;31mModuleNotFoundError\u001b[0m: No module named 'dlib'"
          ],
          "ename": "ModuleNotFoundError",
          "evalue": "No module named 'dlib'",
          "output_type": "error"
        }
      ]
    },
    {
      "cell_type": "code",
      "source": [
        "!cmake path/to/dlib/tools/python -DCMAKE_LIBRARY_OUTPUT_DIRECTORY=path/to/output/directory\n",
        "!pip install dlib --index-url=https://pypi.org/simple/\n"
      ],
      "metadata": {
        "execution": {
          "iopub.status.busy": "2024-06-11T15:12:30.049026Z",
          "iopub.execute_input": "2024-06-11T15:12:30.049541Z",
          "iopub.status.idle": "2024-06-11T15:15:00.90975Z",
          "shell.execute_reply.started": "2024-06-11T15:12:30.049503Z",
          "shell.execute_reply": "2024-06-11T15:15:00.908036Z"
        },
        "trusted": true,
        "id": "KfSBa57ElYml",
        "outputId": "62d89e93-e974-48b2-e760-4af30e4678e5"
      },
      "execution_count": null,
      "outputs": [
        {
          "name": "stdout",
          "text": "cmake: /opt/conda/lib/libcurl.so.4: no version information available (required by cmake)\nCMake Error: The source directory \"/kaggle/working/path/to/dlib/tools/python\" does not exist.\nSpecify --help for usage, or press the help button on the CMake GUI.\nLooking in indexes: https://pypi.org/simple/\n\u001b[33mWARNING: Retrying (Retry(total=4, connect=None, read=None, redirect=None, status=None)) after connection broken by 'NewConnectionError('<pip._vendor.urllib3.connection.HTTPSConnection object at 0x7e805f3a4280>: Failed to establish a new connection: [Errno -3] Temporary failure in name resolution')': /simple/dlib/\u001b[0m\u001b[33m\n\u001b[0m\u001b[33mWARNING: Retrying (Retry(total=3, connect=None, read=None, redirect=None, status=None)) after connection broken by 'NewConnectionError('<pip._vendor.urllib3.connection.HTTPSConnection object at 0x7e805f3a4430>: Failed to establish a new connection: [Errno -3] Temporary failure in name resolution')': /simple/dlib/\u001b[0m\u001b[33m\n\u001b[0m\u001b[33mWARNING: Retrying (Retry(total=2, connect=None, read=None, redirect=None, status=None)) after connection broken by 'NewConnectionError('<pip._vendor.urllib3.connection.HTTPSConnection object at 0x7e805f3a48e0>: Failed to establish a new connection: [Errno -3] Temporary failure in name resolution')': /simple/dlib/\u001b[0m\u001b[33m\n\u001b[0m\u001b[33mWARNING: Retrying (Retry(total=1, connect=None, read=None, redirect=None, status=None)) after connection broken by 'NewConnectionError('<pip._vendor.urllib3.connection.HTTPSConnection object at 0x7e805f3a4a90>: Failed to establish a new connection: [Errno -3] Temporary failure in name resolution')': /simple/dlib/\u001b[0m\u001b[33m\n\u001b[0m\u001b[33mWARNING: Retrying (Retry(total=0, connect=None, read=None, redirect=None, status=None)) after connection broken by 'NewConnectionError('<pip._vendor.urllib3.connection.HTTPSConnection object at 0x7e805f3a4c40>: Failed to establish a new connection: [Errno -3] Temporary failure in name resolution')': /simple/dlib/\u001b[0m\u001b[33m\n\u001b[0m\u001b[31mERROR: Could not find a version that satisfies the requirement dlib (from versions: none)\u001b[0m\u001b[31m\n\u001b[0m\u001b[31mERROR: No matching distribution found for dlib\u001b[0m\u001b[31m\n\u001b[0m",
          "output_type": "stream"
        }
      ]
    },
    {
      "cell_type": "code",
      "source": [],
      "metadata": {
        "id": "ORynVVFclYml"
      },
      "execution_count": null,
      "outputs": []
    }
  ]
}